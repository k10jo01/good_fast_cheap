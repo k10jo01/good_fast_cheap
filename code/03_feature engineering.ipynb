{
 "cells": [
  {
   "cell_type": "markdown",
   "metadata": {},
   "source": [
    "#### Import libraries"
   ]
  },
  {
   "cell_type": "code",
   "execution_count": 1,
   "metadata": {},
   "outputs": [],
   "source": [
    "import pandas as pd\n",
    "import numpy as np\n",
    "from sklearn.preprocessing import PolynomialFeatures"
   ]
  },
  {
   "cell_type": "markdown",
   "metadata": {},
   "source": [
    "#### Reading the data"
   ]
  },
  {
   "cell_type": "code",
   "execution_count": 2,
   "metadata": {},
   "outputs": [],
   "source": [
    "df = pd.read_csv('../data/large_clean.csv')\n",
    "test = pd.read_csv('../data/test_clean.csv')"
   ]
  },
  {
   "cell_type": "markdown",
   "metadata": {},
   "source": [
    "#### Feature Engineering"
   ]
  },
  {
   "cell_type": "code",
   "execution_count": 3,
   "metadata": {},
   "outputs": [],
   "source": [
    "#converting our categorical features to dummies\n",
    "df = pd.get_dummies(df, drop_first=True)\n",
    "df_test = pd.get_dummies(test, drop_first=True)"
   ]
  },
  {
   "cell_type": "code",
   "execution_count": 4,
   "metadata": {},
   "outputs": [],
   "source": [
    "#most important features\n",
    "features = ['fnlwgt', 'age', 'education-num', 'capital-gain', 'marital-status_Married-civ-spouse','hours-per-week']"
   ]
  },
  {
   "cell_type": "code",
   "execution_count": 5,
   "metadata": {},
   "outputs": [],
   "source": [
    "#takes the important featurs from the original df\n",
    "X = df[features]\n",
    "X_test = df_test[features]"
   ]
  },
  {
   "cell_type": "code",
   "execution_count": 6,
   "metadata": {},
   "outputs": [],
   "source": [
    "#using PolynomialFeatures() to create interaction terms between the most importent features\n",
    "\n",
    "#instituting\n",
    "pf = PolynomialFeatures(include_bias=False, degree=2, interaction_only=False)\n",
    "#fitting and transforming\n",
    "X_poly = pf.fit_transform(X)\n",
    "\n",
    "#fitting and transforming\n",
    "X_test_poly = pf.fit_transform(X_test)\n"
   ]
  },
  {
   "cell_type": "code",
   "execution_count": 7,
   "metadata": {},
   "outputs": [],
   "source": [
    "#creating a dataFrame from the polyed features\n",
    "combined = pd.DataFrame(X_poly, columns =pf.get_feature_names(features))\n",
    "\n",
    "combined_test = pd.DataFrame(X_test_poly, columns =pf.get_feature_names(features))"
   ]
  },
  {
   "cell_type": "code",
   "execution_count": 8,
   "metadata": {},
   "outputs": [],
   "source": [
    "#dropping the duplicate columns \n",
    "combined.drop(['fnlwgt', 'age', 'education-num', 'capital-gain','marital-status_Married-civ-spouse', 'hours-per-week'], \n",
    "              axis=1, \n",
    "              inplace=True)\n",
    "\n",
    "combined_test.drop(['fnlwgt', 'age', 'education-num', 'capital-gain','marital-status_Married-civ-spouse', 'hours-per-week'], \n",
    "              axis=1, \n",
    "              inplace=True)"
   ]
  },
  {
   "cell_type": "code",
   "execution_count": 10,
   "metadata": {},
   "outputs": [
    {
     "data": {
      "text/html": [
       "<div>\n",
       "<style scoped>\n",
       "    .dataframe tbody tr th:only-of-type {\n",
       "        vertical-align: middle;\n",
       "    }\n",
       "\n",
       "    .dataframe tbody tr th {\n",
       "        vertical-align: top;\n",
       "    }\n",
       "\n",
       "    .dataframe thead th {\n",
       "        text-align: right;\n",
       "    }\n",
       "</style>\n",
       "<table border=\"1\" class=\"dataframe\">\n",
       "  <thead>\n",
       "    <tr style=\"text-align: right;\">\n",
       "      <th></th>\n",
       "      <th>fnlwgt^2</th>\n",
       "      <th>fnlwgt age</th>\n",
       "      <th>fnlwgt education-num</th>\n",
       "      <th>fnlwgt capital-gain</th>\n",
       "      <th>fnlwgt marital-status_Married-civ-spouse</th>\n",
       "      <th>fnlwgt hours-per-week</th>\n",
       "      <th>age^2</th>\n",
       "      <th>age education-num</th>\n",
       "      <th>age capital-gain</th>\n",
       "      <th>age marital-status_Married-civ-spouse</th>\n",
       "      <th>...</th>\n",
       "      <th>education-num^2</th>\n",
       "      <th>education-num capital-gain</th>\n",
       "      <th>education-num marital-status_Married-civ-spouse</th>\n",
       "      <th>education-num hours-per-week</th>\n",
       "      <th>capital-gain^2</th>\n",
       "      <th>capital-gain marital-status_Married-civ-spouse</th>\n",
       "      <th>capital-gain hours-per-week</th>\n",
       "      <th>marital-status_Married-civ-spouse^2</th>\n",
       "      <th>marital-status_Married-civ-spouse hours-per-week</th>\n",
       "      <th>hours-per-week^2</th>\n",
       "    </tr>\n",
       "  </thead>\n",
       "  <tbody>\n",
       "    <tr>\n",
       "      <td>0</td>\n",
       "      <td>5.143915e+10</td>\n",
       "      <td>5670050.0</td>\n",
       "      <td>1587614.0</td>\n",
       "      <td>0.000000e+00</td>\n",
       "      <td>0.0</td>\n",
       "      <td>9072080.0</td>\n",
       "      <td>625.0</td>\n",
       "      <td>175.0</td>\n",
       "      <td>0.0</td>\n",
       "      <td>0.0</td>\n",
       "      <td>...</td>\n",
       "      <td>49.0</td>\n",
       "      <td>0.0</td>\n",
       "      <td>0.0</td>\n",
       "      <td>280.0</td>\n",
       "      <td>0.0</td>\n",
       "      <td>0.0</td>\n",
       "      <td>0.0</td>\n",
       "      <td>0.0</td>\n",
       "      <td>0.0</td>\n",
       "      <td>1600.0</td>\n",
       "    </tr>\n",
       "    <tr>\n",
       "      <td>1</td>\n",
       "      <td>8.066555e+09</td>\n",
       "      <td>3412932.0</td>\n",
       "      <td>808326.0</td>\n",
       "      <td>0.000000e+00</td>\n",
       "      <td>89814.0</td>\n",
       "      <td>4490700.0</td>\n",
       "      <td>1444.0</td>\n",
       "      <td>342.0</td>\n",
       "      <td>0.0</td>\n",
       "      <td>38.0</td>\n",
       "      <td>...</td>\n",
       "      <td>81.0</td>\n",
       "      <td>0.0</td>\n",
       "      <td>9.0</td>\n",
       "      <td>450.0</td>\n",
       "      <td>0.0</td>\n",
       "      <td>0.0</td>\n",
       "      <td>0.0</td>\n",
       "      <td>1.0</td>\n",
       "      <td>50.0</td>\n",
       "      <td>2500.0</td>\n",
       "    </tr>\n",
       "    <tr>\n",
       "      <td>2</td>\n",
       "      <td>1.135360e+11</td>\n",
       "      <td>9434628.0</td>\n",
       "      <td>4043412.0</td>\n",
       "      <td>0.000000e+00</td>\n",
       "      <td>336951.0</td>\n",
       "      <td>13478040.0</td>\n",
       "      <td>784.0</td>\n",
       "      <td>336.0</td>\n",
       "      <td>0.0</td>\n",
       "      <td>28.0</td>\n",
       "      <td>...</td>\n",
       "      <td>144.0</td>\n",
       "      <td>0.0</td>\n",
       "      <td>12.0</td>\n",
       "      <td>480.0</td>\n",
       "      <td>0.0</td>\n",
       "      <td>0.0</td>\n",
       "      <td>0.0</td>\n",
       "      <td>1.0</td>\n",
       "      <td>40.0</td>\n",
       "      <td>1600.0</td>\n",
       "    </tr>\n",
       "    <tr>\n",
       "      <td>3</td>\n",
       "      <td>2.570346e+10</td>\n",
       "      <td>7054212.0</td>\n",
       "      <td>1603230.0</td>\n",
       "      <td>1.232563e+09</td>\n",
       "      <td>160323.0</td>\n",
       "      <td>6412920.0</td>\n",
       "      <td>1936.0</td>\n",
       "      <td>440.0</td>\n",
       "      <td>338272.0</td>\n",
       "      <td>44.0</td>\n",
       "      <td>...</td>\n",
       "      <td>100.0</td>\n",
       "      <td>76880.0</td>\n",
       "      <td>10.0</td>\n",
       "      <td>400.0</td>\n",
       "      <td>59105344.0</td>\n",
       "      <td>7688.0</td>\n",
       "      <td>307520.0</td>\n",
       "      <td>1.0</td>\n",
       "      <td>40.0</td>\n",
       "      <td>1600.0</td>\n",
       "    </tr>\n",
       "    <tr>\n",
       "      <td>4</td>\n",
       "      <td>1.071163e+10</td>\n",
       "      <td>1862946.0</td>\n",
       "      <td>1034970.0</td>\n",
       "      <td>0.000000e+00</td>\n",
       "      <td>0.0</td>\n",
       "      <td>3104910.0</td>\n",
       "      <td>324.0</td>\n",
       "      <td>180.0</td>\n",
       "      <td>0.0</td>\n",
       "      <td>0.0</td>\n",
       "      <td>...</td>\n",
       "      <td>100.0</td>\n",
       "      <td>0.0</td>\n",
       "      <td>0.0</td>\n",
       "      <td>300.0</td>\n",
       "      <td>0.0</td>\n",
       "      <td>0.0</td>\n",
       "      <td>0.0</td>\n",
       "      <td>0.0</td>\n",
       "      <td>0.0</td>\n",
       "      <td>900.0</td>\n",
       "    </tr>\n",
       "  </tbody>\n",
       "</table>\n",
       "<p>5 rows × 21 columns</p>\n",
       "</div>"
      ],
      "text/plain": [
       "       fnlwgt^2  fnlwgt age  fnlwgt education-num  fnlwgt capital-gain  \\\n",
       "0  5.143915e+10   5670050.0             1587614.0         0.000000e+00   \n",
       "1  8.066555e+09   3412932.0              808326.0         0.000000e+00   \n",
       "2  1.135360e+11   9434628.0             4043412.0         0.000000e+00   \n",
       "3  2.570346e+10   7054212.0             1603230.0         1.232563e+09   \n",
       "4  1.071163e+10   1862946.0             1034970.0         0.000000e+00   \n",
       "\n",
       "   fnlwgt marital-status_Married-civ-spouse  fnlwgt hours-per-week   age^2  \\\n",
       "0                                       0.0              9072080.0   625.0   \n",
       "1                                   89814.0              4490700.0  1444.0   \n",
       "2                                  336951.0             13478040.0   784.0   \n",
       "3                                  160323.0              6412920.0  1936.0   \n",
       "4                                       0.0              3104910.0   324.0   \n",
       "\n",
       "   age education-num  age capital-gain  age marital-status_Married-civ-spouse  \\\n",
       "0              175.0               0.0                                    0.0   \n",
       "1              342.0               0.0                                   38.0   \n",
       "2              336.0               0.0                                   28.0   \n",
       "3              440.0          338272.0                                   44.0   \n",
       "4              180.0               0.0                                    0.0   \n",
       "\n",
       "   ...  education-num^2  education-num capital-gain  \\\n",
       "0  ...             49.0                         0.0   \n",
       "1  ...             81.0                         0.0   \n",
       "2  ...            144.0                         0.0   \n",
       "3  ...            100.0                     76880.0   \n",
       "4  ...            100.0                         0.0   \n",
       "\n",
       "   education-num marital-status_Married-civ-spouse  \\\n",
       "0                                              0.0   \n",
       "1                                              9.0   \n",
       "2                                             12.0   \n",
       "3                                             10.0   \n",
       "4                                              0.0   \n",
       "\n",
       "   education-num hours-per-week  capital-gain^2  \\\n",
       "0                         280.0             0.0   \n",
       "1                         450.0             0.0   \n",
       "2                         480.0             0.0   \n",
       "3                         400.0      59105344.0   \n",
       "4                         300.0             0.0   \n",
       "\n",
       "   capital-gain marital-status_Married-civ-spouse  \\\n",
       "0                                             0.0   \n",
       "1                                             0.0   \n",
       "2                                             0.0   \n",
       "3                                          7688.0   \n",
       "4                                             0.0   \n",
       "\n",
       "   capital-gain hours-per-week  marital-status_Married-civ-spouse^2  \\\n",
       "0                          0.0                                  0.0   \n",
       "1                          0.0                                  1.0   \n",
       "2                          0.0                                  1.0   \n",
       "3                     307520.0                                  1.0   \n",
       "4                          0.0                                  0.0   \n",
       "\n",
       "   marital-status_Married-civ-spouse hours-per-week  hours-per-week^2  \n",
       "0                                               0.0            1600.0  \n",
       "1                                              50.0            2500.0  \n",
       "2                                              40.0            1600.0  \n",
       "3                                              40.0            1600.0  \n",
       "4                                               0.0             900.0  \n",
       "\n",
       "[5 rows x 21 columns]"
      ]
     },
     "execution_count": 10,
     "metadata": {},
     "output_type": "execute_result"
    }
   ],
   "source": [
    "combined_test.head()"
   ]
  },
  {
   "cell_type": "code",
   "execution_count": 11,
   "metadata": {},
   "outputs": [],
   "source": [
    "#combining the polyed columns with the original df.\n",
    "polyed_data = combined.merge(df, left_index=True, right_index=True)\n",
    "polyed_data_test = combined_test.merge(df_test, left_index=True, right_index=True)"
   ]
  },
  {
   "cell_type": "code",
   "execution_count": 12,
   "metadata": {},
   "outputs": [
    {
     "data": {
      "text/plain": [
       "(16281, 116)"
      ]
     },
     "execution_count": 12,
     "metadata": {},
     "output_type": "execute_result"
    }
   ],
   "source": [
    "polyed_data_test.shape"
   ]
  },
  {
   "cell_type": "markdown",
   "metadata": {},
   "source": [
    "#### Saving the Data Frame"
   ]
  },
  {
   "cell_type": "code",
   "execution_count": 13,
   "metadata": {},
   "outputs": [],
   "source": [
    "polyed_data.to_csv('../data/polyed_clean.csv', index=False)"
   ]
  },
  {
   "cell_type": "code",
   "execution_count": 14,
   "metadata": {},
   "outputs": [],
   "source": [
    "polyed_data_test.to_csv('../data/polyed_test_clean.csv', index=False)"
   ]
  }
 ],
 "metadata": {
  "kernelspec": {
   "display_name": "Python 3",
   "language": "python",
   "name": "python3"
  },
  "language_info": {
   "codemirror_mode": {
    "name": "ipython",
    "version": 3
   },
   "file_extension": ".py",
   "mimetype": "text/x-python",
   "name": "python",
   "nbconvert_exporter": "python",
   "pygments_lexer": "ipython3",
   "version": "3.7.3"
  }
 },
 "nbformat": 4,
 "nbformat_minor": 2
}
